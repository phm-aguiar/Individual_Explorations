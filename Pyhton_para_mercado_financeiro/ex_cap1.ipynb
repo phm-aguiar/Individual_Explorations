{
 "cells": [
  {
   "cell_type": "code",
   "execution_count": 1,
   "metadata": {},
   "outputs": [],
   "source": [
    "import math as m"
   ]
  },
  {
   "cell_type": "code",
   "execution_count": 2,
   "metadata": {},
   "outputs": [],
   "source": [
    "y = m.pow(4,3) - m.pow(2,2)\n",
    "x = m.sin(2) - m.cos(4.2)"
   ]
  },
  {
   "cell_type": "code",
   "execution_count": 3,
   "metadata": {},
   "outputs": [],
   "source": [
    "z = m.cos(m.sin(3.7) - m.tan(1.3))"
   ]
  },
  {
   "cell_type": "code",
   "execution_count": 4,
   "metadata": {},
   "outputs": [
    {
     "name": "stdout",
     "output_type": "stream",
     "text": [
      "60.0\n",
      "1.399558248166381\n",
      "-0.5484006168695851\n"
     ]
    }
   ],
   "source": [
    "print(y)\n",
    "print(x)\n",
    "print(z)\n"
   ]
  },
  {
   "cell_type": "code",
   "execution_count": 5,
   "metadata": {},
   "outputs": [
    {
     "name": "stdout",
     "output_type": "stream",
     "text": [
      "2\n"
     ]
    }
   ],
   "source": [
    "print(26%4)"
   ]
  },
  {
   "cell_type": "code",
   "execution_count": 9,
   "metadata": {},
   "outputs": [],
   "source": [
    "x = m.radians(46.2)"
   ]
  },
  {
   "cell_type": "code",
   "execution_count": 10,
   "metadata": {},
   "outputs": [
    {
     "name": "stdout",
     "output_type": "stream",
     "text": [
      "0.8063421144213803\n"
     ]
    }
   ],
   "source": [
    "print(x)"
   ]
  },
  {
   "cell_type": "code",
   "execution_count": 11,
   "metadata": {},
   "outputs": [
    {
     "name": "stdout",
     "output_type": "stream",
     "text": [
      "177.6169164905552\n"
     ]
    }
   ],
   "source": [
    "y = m.degrees(3.1)\n",
    "print(y)"
   ]
  },
  {
   "cell_type": "code",
   "execution_count": 12,
   "metadata": {},
   "outputs": [],
   "source": [
    "x, y = 3, 6"
   ]
  },
  {
   "cell_type": "code",
   "execution_count": 17,
   "metadata": {},
   "outputs": [
    {
     "name": "stdout",
     "output_type": "stream",
     "text": [
      "18.293777453959613\n"
     ]
    }
   ],
   "source": [
    "w = m.exp(x) - m.log(y)\n",
    "print(w)"
   ]
  },
  {
   "cell_type": "code",
   "execution_count": 15,
   "metadata": {},
   "outputs": [
    {
     "name": "stdout",
     "output_type": "stream",
     "text": [
      "102.06004502039733\n"
     ]
    }
   ],
   "source": [
    "z = x*m.pow(y,2) + y*m.cos(x)\n",
    "print(z)"
   ]
  },
  {
   "cell_type": "code",
   "execution_count": 16,
   "metadata": {},
   "outputs": [
    {
     "name": "stdout",
     "output_type": "stream",
     "text": [
      "1.5983360204481227\n"
     ]
    }
   ],
   "source": [
    "s = m.sqrt(x/y + m.log(x+ y) + m.tan(x))\n",
    "print(s)"
   ]
  },
  {
   "cell_type": "code",
   "execution_count": 28,
   "metadata": {},
   "outputs": [
    {
     "name": "stdout",
     "output_type": "stream",
     "text": [
      "[4, 1]\n",
      "[2, 1, 1, 2, 3]\n",
      "[3, 4, 1, 2, 1, 1, 2, 3, 4, 4, 1, 1, 5, 2]\n",
      "[3, 3, 4, 1, 2, 1, 1, 2, 3, 4, 4, 1, 1, 5, 2]\n",
      "[3, 1, 1, 4, 1]\n",
      "2\n",
      "[1, 5, 2]\n",
      "[3, 3, 4, 1]\n",
      "15\n",
      "5\n"
     ]
    }
   ],
   "source": [
    "num = [3,3,4,1,2,1,1,2,3,4,4,1,1,5,2]\n",
    "print(num[2:4])\n",
    "print(num[4:9])\n",
    "print(num[1:])\n",
    "print(num)\n",
    "print(num[::3])\n",
    "print(num[-1])\n",
    "print(num[-3:])\n",
    "print(num[:4])\n",
    "print(len(num))\n",
    "print(num.count(1))"
   ]
  },
  {
   "cell_type": "code",
   "execution_count": 41,
   "metadata": {},
   "outputs": [],
   "source": [
    "Bolsas = ['dow', 'ibov', 'ftse','dax', 'nasdaq', 'cac']"
   ]
  },
  {
   "cell_type": "code",
   "execution_count": 42,
   "metadata": {},
   "outputs": [
    {
     "name": "stdout",
     "output_type": "stream",
     "text": [
      "['dow', 'ibov', 'ftse', 'dax', 'nasdaq', 'cac']\n",
      "['dow', 'ibov', 'ftse']\n",
      "['dow', 'ibov', 'ftse', 'dax', 'nasdaq', 'cac', 'hong kong', 'merval']\n",
      "4\n",
      "['dow', 'ibov', 'sp&500', 'ftse', 'dax', 'nasdaq', 'hong kong', 'merval']\n"
     ]
    }
   ],
   "source": [
    "print(Bolsas)\n",
    "print(Bolsas[:3])\n",
    "Bs = ['hong kong', 'merval']\n",
    "Bolsas.extend(Bs)\n",
    "print(Bolsas)\n",
    "print(Bolsas.index('nasdaq'))\n",
    "Bolsas.remove('cac')\n",
    "Bolsas.insert(2, 'sp&500')\n",
    "print(Bolsas)\n"
   ]
  },
  {
   "cell_type": "code",
   "execution_count": 47,
   "metadata": {},
   "outputs": [],
   "source": [
    "bov = open('bov.txt', 'w')"
   ]
  },
  {
   "cell_type": "code",
   "execution_count": 48,
   "metadata": {},
   "outputs": [],
   "source": [
    "bov.write(\"'petr4', 'vale3', 'ggbr4', 28.4, 31.3, 15.76\")\n",
    "bov.close()"
   ]
  },
  {
   "cell_type": "code",
   "execution_count": 49,
   "metadata": {},
   "outputs": [
    {
     "name": "stdout",
     "output_type": "stream",
     "text": [
      "'petr4', 'vale3', 'ggbr4', 28.4, 31.3, 15.76\n"
     ]
    }
   ],
   "source": [
    "bov = open('bov.txt', 'r')\n",
    "print(bov.read())"
   ]
  },
  {
   "cell_type": "code",
   "execution_count": 50,
   "metadata": {},
   "outputs": [],
   "source": [
    "bov.close()"
   ]
  },
  {
   "cell_type": "code",
   "execution_count": 51,
   "metadata": {},
   "outputs": [],
   "source": [
    "lista= [2, 2, 3, 3, 3, -1, -1, -2, 0, 0, 0, 2, 4, 5, 1,2, 2, 0, 0, 0,2 ,1, 5, 5, 7, 6, 5, 0, 0]"
   ]
  },
  {
   "cell_type": "code",
   "execution_count": 57,
   "metadata": {},
   "outputs": [
    {
     "name": "stdout",
     "output_type": "stream",
     "text": [
      "56\n",
      "7\n",
      "-2\n",
      "1.9310344827586208\n",
      "2.0\n",
      "0\n",
      "2.2883668997292492\n",
      "2.2883668997292492\n",
      "8\n",
      "4\n",
      "[-2, -1, -1, 0, 0, 0, 0, 0, 0, 0, 0, 1, 1, 2, 2, 2, 2, 2, 2, 3, 3, 3, 4, 5, 5, 5, 5, 6, 7]\n",
      "[7, 6, 5, 5, 5, 5, 4, 3, 3, 3, 2, 2, 2, 2, 2, 2, 1, 1, 0, 0, 0, 0, 0, 0, 0, 0, -1, -1, -2]\n"
     ]
    }
   ],
   "source": [
    "import numpy as ny\n",
    "import statistics as st\n",
    "print(sum(lista))\n",
    "print(max(lista))\n",
    "print(min(lista))\n",
    "print(ny.mean(lista))\n",
    "print(ny.median(lista))\t\n",
    "print(st.mode(lista))\n",
    "print(ny.std(lista)) # desvio padrão\n",
    "print(st.pstdev(lista)) # desvio padrão populacional\n",
    "print(lista.count(0))\n",
    "print(lista.count(5))\n",
    "lista.sort()\n",
    "print(lista)\n",
    "lista.sort(reverse=True)\n",
    "print(lista)"
   ]
  },
  {
   "cell_type": "code",
   "execution_count": 1,
   "metadata": {},
   "outputs": [],
   "source": [
    "import openpyxl as ox"
   ]
  },
  {
   "cell_type": "code",
   "execution_count": 2,
   "metadata": {},
   "outputs": [],
   "source": [
    "workbook = ox.load_workbook('vale_gerdau.xlsx')\n"
   ]
  },
  {
   "cell_type": "code",
   "execution_count": 7,
   "metadata": {},
   "outputs": [],
   "source": [
    "sheet = workbook[' Plan1']\n",
    "column1 = 'A'\n",
    "column2 = 'B'\n",
    "\n",
    "max_row = sheet.max_row"
   ]
  },
  {
   "cell_type": "code",
   "execution_count": 13,
   "metadata": {},
   "outputs": [],
   "source": [
    "vale = []\n",
    "gerdau = []\n",
    "\n",
    "for row in range(1, max_row + 1):\n",
    "\tcell_value = sheet[column1 + str(row)].value\n",
    "\tvale.append(cell_value)"
   ]
  },
  {
   "cell_type": "code",
   "execution_count": 14,
   "metadata": {},
   "outputs": [],
   "source": [
    "for row in range(1, max_row + 1):\n",
    "\tcell_value = sheet[column2 + str(row)].value\n",
    "\tgerdau.append(cell_value)"
   ]
  },
  {
   "cell_type": "code",
   "execution_count": 15,
   "metadata": {},
   "outputs": [
    {
     "name": "stdout",
     "output_type": "stream",
     "text": [
      "[46.01, 45.52, 46.52, 46.52, 46.45, 47.89, 48.24, 47.95, 49.69, 49.79, 48.59, 48.9, 48.4, 48.32, 48.42, 48.1, 46.93, 47.86, 47.86, 47.66, 47.75, 47.71, 45.1, 45.44, 46.59, 46.04, 45.32, 45.67]\n"
     ]
    }
   ],
   "source": [
    "print(vale)"
   ]
  },
  {
   "cell_type": "code",
   "execution_count": 16,
   "metadata": {},
   "outputs": [
    {
     "name": "stdout",
     "output_type": "stream",
     "text": [
      "[12.66, 12.58, 12.58, 12.67, 12.43, 13.11, 13.52, 13.23, 13.61, 13.56, 13.5, 13.58, 13.43, 13.4, 13.25, 13.21, 12.95, 13.11, 13.13, 13.03, 13.16, 13.09, 12.6, 12.78, 13.03, 12.78, 12.55, 12.52]\n"
     ]
    }
   ],
   "source": [
    "print(gerdau)"
   ]
  },
  {
   "cell_type": "code",
   "execution_count": 21,
   "metadata": {},
   "outputs": [],
   "source": [
    "import numpy as ny\n",
    "import matplotlib.pyplot as fig"
   ]
  },
  {
   "cell_type": "code",
   "execution_count": 18,
   "metadata": {},
   "outputs": [],
   "source": [
    "vale = ny.array(vale)\n",
    "gerdau = ny.array(gerdau)"
   ]
  },
  {
   "cell_type": "code",
   "execution_count": 25,
   "metadata": {},
   "outputs": [],
   "source": [
    "tempo = ny.arange(len(vale))\n",
    "tempo2 = ny.arange(len(gerdau))"
   ]
  },
  {
   "cell_type": "code",
   "execution_count": 26,
   "metadata": {},
   "outputs": [
    {
     "data": {
      "text/plain": [
       "[<matplotlib.lines.Line2D at 0x7f03523a2480>]"
      ]
     },
     "execution_count": 26,
     "metadata": {},
     "output_type": "execute_result"
    },
    {
     "data": {
      "image/png": "[encoded data removed]",
      "text/plain": [
       "<Figure size 640x480 with 2 Axes>"
      ]
     },
     "metadata": {},
     "output_type": "display_data"
    }
   ],
   "source": [
    "fig.subplot(221); fig.plot(tempo, vale)\n",
    "fig.subplot(223); fig.plot(tempo2, gerdau)"
   ]
  },
  {
   "cell_type": "code",
   "execution_count": 32,
   "metadata": {},
   "outputs": [
    {
     "name": "stdout",
     "output_type": "stream",
     "text": [
      "[-0.01064986  0.02196837  0.         -0.00150473  0.03100108  0.00730842\n",
      " -0.00601161  0.0362878   0.00201248 -0.02410123  0.00637991 -0.01022495\n",
      " -0.00165289  0.00206954 -0.00660884 -0.02432432  0.01981675  0.\n",
      " -0.00417885  0.00188838 -0.0008377  -0.05470551  0.0075388   0.0253081\n",
      " -0.01180511 -0.01563858  0.00772286]\n",
      "[-0.00631912  0.          0.00715421 -0.01894238  0.05470636  0.03127384\n",
      " -0.0214497   0.0287226  -0.00367377 -0.00442478  0.00592593 -0.01104566\n",
      " -0.0022338  -0.01119403 -0.00301887 -0.01968206  0.01235521  0.00152555\n",
      " -0.00761615  0.00997698 -0.00531915 -0.03743316  0.01428571  0.01956182\n",
      " -0.01918649 -0.01799687 -0.00239044]\n"
     ]
    }
   ],
   "source": [
    "retorno_vale = (vale[1:] - vale[:-1])/vale[:-1]\n",
    "retorno_gerdau = (gerdau[1:] - gerdau[:-1])/gerdau[:-1]\n",
    "t_ret_vale = ny.arange(len(retorno_vale))\n",
    "t_ret_gerdau = ny.arange(len(retorno_gerdau))\n",
    "print(retorno_vale)\n",
    "print(retorno_gerdau)"
   ]
  },
  {
   "cell_type": "code",
   "execution_count": 31,
   "metadata": {},
   "outputs": [
    {
     "data": {
      "text/plain": [
       "[<matplotlib.lines.Line2D at 0x7f03522ce630>]"
      ]
     },
     "execution_count": 31,
     "metadata": {},
     "output_type": "execute_result"
    },
    {
     "data": {
      "image/png": "[encoded data removed]",
      "text/plain": [
       "<Figure size 640x480 with 4 Axes>"
      ]
     },
     "metadata": {},
     "output_type": "display_data"
    }
   ],
   "source": [
    "fig.subplot(221); fig.plot(tempo, vale)\n",
    "fig.subplot(223); fig.plot(tempo2, gerdau)\n",
    "fig.subplot(222); fig.plot(t_ret_vale, retorno_vale)\n",
    "fig.subplot(224); fig.plot(t_ret_gerdau, retorno_gerdau)"
   ]
  },
  {
   "cell_type": "code",
   "execution_count": null,
   "metadata": {},
   "outputs": [],
   "source": []
  }
 ],
 "metadata": {
  "kernelspec": {
   "display_name": "Python 3 (ipykernel)",
   "language": "python",
   "name": "python3"
  },
  "language_info": {
   "codemirror_mode": {
    "name": "ipython",
    "version": 3
   },
   "file_extension": ".py",
   "mimetype": "text/x-python",
   "name": "python",
   "nbconvert_exporter": "python",
   "pygments_lexer": "ipython3",
   "version": "3.12.2"
  }
 },
 "nbformat": 4,
 "nbformat_minor": 2
}
