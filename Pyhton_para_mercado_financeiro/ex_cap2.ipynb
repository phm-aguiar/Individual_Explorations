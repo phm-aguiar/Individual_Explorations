{
 "cells": [
  {
   "cell_type": "code",
   "execution_count": 1,
   "metadata": {},
   "outputs": [],
   "source": [
    "import math as m "
   ]
  },
  {
   "cell_type": "code",
   "execution_count": 2,
   "metadata": {},
   "outputs": [
    {
     "name": "stdout",
     "output_type": "stream",
     "text": [
      "x = 1\n"
     ]
    }
   ],
   "source": [
    "x = int(input(\"Enter a number: \"))\n",
    "print(f\"x = {x}\")"
   ]
  },
  {
   "cell_type": "code",
   "execution_count": 3,
   "metadata": {},
   "outputs": [
    {
     "name": "stdout",
     "output_type": "stream",
     "text": [
      "The triangle is equilateral\n"
     ]
    }
   ],
   "source": [
    "lado1 = int(input(\"Enter the first side of the triangle: \"))\n",
    "lado2 = int(input(\"Enter the second side of the triangle: \"))\n",
    "lado3 = int(input(\"Enter the third side of the triangle: \"))\n",
    "\n",
    "if lado1 == lado2 and lado2 == lado3:\n",
    "    print(\"The triangle is equilateral\")\n",
    "elif lado1 == lado2 or lado2 == lado3 or lado1 == lado3:\n",
    "    print(\"The triangle is isosceles\")\n",
    "else:\n",
    "    print(\"The triangle is scalene\")"
   ]
  },
  {
   "cell_type": "code",
   "execution_count": 4,
   "metadata": {},
   "outputs": [
    {
     "name": "stdout",
     "output_type": "stream",
     "text": [
      "Profit\n"
     ]
    }
   ],
   "source": [
    "valor_de_compra = float(input(\"Enter the purchase value: \"))\n",
    "valor_de_venda = float(input(\"Enter the sale value: \"))\n",
    "\n",
    "lucro = valor_de_venda - valor_de_compra\n",
    "percentual_de_lucro = (lucro / valor_de_compra) * 100\n",
    "if percentual_de_lucro < 10:\n",
    "\tprint(\"Loss\")\n",
    "elif percentual_de_lucro <= 20 and percentual_de_lucro >= 10:\n",
    "\tprint(\"Normal\")\n",
    "else:\n",
    "\tprint(\"Profit\")"
   ]
  },
  {
   "cell_type": "code",
   "execution_count": 1,
   "metadata": {},
   "outputs": [
    {
     "name": "stdout",
     "output_type": "stream",
     "text": [
      "Support: 1.2\n"
     ]
    }
   ],
   "source": [
    "maximo = int(input(\"Enter the maximum value: \"))\n",
    "minimo = int(input(\"Enter the minimum value: \"))\n",
    "\n",
    "intervalo_historico = maximo - minimo\n",
    "suporte = intervalo_historico * 0.30\n",
    "resistencia = intervalo_historico * 0.60\n",
    "print(f\"Support: {suporte}\")\t\n",
    "\n",
    "# pagina 82\n",
    "\n"
   ]
  },
  {
   "cell_type": "code",
   "execution_count": 9,
   "metadata": {},
   "outputs": [
    {
     "name": "stdout",
     "output_type": "stream",
     "text": [
      "raiz = -1.0\n"
     ]
    }
   ],
   "source": [
    "# bascara\n",
    "import math as m\n",
    "a = int(input(\"Enter the value of a: \"))\n",
    "b = int(input(\"Enter the value of b: \"))\n",
    "c = int(input(\"Enter the value of c: \"))\n",
    "\n",
    "delta = m.pow(b, 2) - 4 * a * c\n",
    "\n",
    "if delta < 0:\n",
    "\tprint(\"não existem raízes reais\")\n",
    "elif delta == 0:\n",
    "\traiz = -b / (2 * a)\n",
    "\tprint(f\"raiz = {raiz}\")\n",
    "else:\n",
    "\traiz1 = (-b + m.sqrt(delta)) / (2 * a)\n",
    "\traiz2 = (-b - m.sqrt(delta)) / (2 * a)\n",
    "\tprint(f\"raiz1 = {raiz1}\")\n",
    "\tprint(f\"raiz2 = {raiz2}\")"
   ]
  },
  {
   "cell_type": "code",
   "execution_count": 12,
   "metadata": {},
   "outputs": [
    {
     "name": "stdout",
     "output_type": "stream",
     "text": [
      "Value with discount: 800.0\n"
     ]
    }
   ],
   "source": [
    "valor_de_compra = float(input(\"Enter the purchase value: \"))\n",
    "\n",
    "if valor_de_compra >=0 and valor_de_compra <= 20:\n",
    "\tdesconto = 0.05\n",
    "elif valor_de_compra > 20 and valor_de_compra <= 50:\n",
    "    desconto = 0.1\n",
    "elif valor_de_compra > 50 and valor_de_compra <= 100:\n",
    "    desconto = 0.15\n",
    "elif valor_de_compra > 100 and valor_de_compra <= 1000:\n",
    "\tdesconto = 0.2\n",
    "elif valor_de_compra > 1000:\n",
    "\tdesconto = 0.3\n",
    "else:\n",
    "\tprint(\"Invalid value\")\n",
    "\n",
    "valor_de_compra = valor_de_compra - (valor_de_compra * desconto)\n",
    "print(f\"Value with discount: {valor_de_compra}\")"
   ]
  },
  {
   "cell_type": "code",
   "execution_count": 17,
   "metadata": {},
   "outputs": [
    {
     "name": "stdout",
     "output_type": "stream",
     "text": [
      "Soma dos numeros pares: 156\n",
      "Soma dos numeros impares: 169\n"
     ]
    }
   ],
   "source": [
    "n = int(input(\"Numero de vendas: \"))\n",
    "\n",
    "soma = 0\n",
    "si = 0\n",
    "for i in range (1,n+1):\n",
    "\tif i%2 == 0:\n",
    "\t\tsoma = soma + i\n",
    "\telse:\n",
    "\t\tsi += i\n",
    "\n",
    "print(f\"Soma dos numeros pares: {soma}\")\n",
    "print(f\"Soma dos numeros impares: {si}\")"
   ]
  },
  {
   "cell_type": "code",
   "execution_count": 21,
   "metadata": {},
   "outputs": [
    {
     "name": "stdout",
     "output_type": "stream",
     "text": [
      "S = 37.849196240437124\n"
     ]
    }
   ],
   "source": [
    "s = 0\n",
    "n = int(input(\"Enter the number of terms: \"))\n",
    "\n",
    "for i in range(1, n+1):\n",
    "    s += (70 -i)/(7*i)\n",
    "print(f\"S = {s}\")"
   ]
  },
  {
   "cell_type": "code",
   "execution_count": 23,
   "metadata": {},
   "outputs": [
    {
     "name": "stdout",
     "output_type": "stream",
     "text": [
      "Sum of even numbers: 15\n",
      "Sum of odd numbers: 16\n"
     ]
    }
   ],
   "source": [
    "ni = 0\n",
    "np = 0\n",
    "\n",
    "n = int(input(\"Enter the number of terms: \"))\n",
    "for i in range(1, n+1):\n",
    "\tif i % 2 == 0:\n",
    "\t\tni+=1\n",
    "\telse:\n",
    "\t\tnp += 1\n",
    "print(f\"Sum of even numbers: {ni}\")\n",
    "print(f\"Sum of odd numbers: {np}\")"
   ]
  },
  {
   "cell_type": "code",
   "execution_count": 25,
   "metadata": {},
   "outputs": [
    {
     "name": "stdout",
     "output_type": "stream",
     "text": [
      "Integral: -4.905\n"
     ]
    }
   ],
   "source": [
    "n = int(input(\"Enter the number of terms: \"))\n",
    "x = int(input(\"Enter the value of x: \"))\n",
    "\n",
    "integral = 0\n",
    "interator = 1\n",
    "\n",
    "for i in range(1, n+1, 2):\n",
    "\t\tintegral += m.pow(x, i) * (-1)**i / (i *m.factorial(i))\n",
    "\n",
    "print(f\"Integral: {integral}\")"
   ]
  },
  {
   "cell_type": "code",
   "execution_count": 27,
   "metadata": {},
   "outputs": [
    {
     "name": "stdout",
     "output_type": "stream",
     "text": [
      "s = 3.140592653839794, dif = 0.000999999749998981, termos = 1000\n"
     ]
    }
   ],
   "source": [
    "i = 0\n",
    "s = 0\n",
    "imp =1\n",
    "dif = 10\n",
    "while dif > 0.001:\n",
    "\ti += 1\n",
    "\ts = s +4*(-1)**(i+1)/imp\n",
    "\timp += 2\n",
    "\tdif = abs(m.pi - s)\n",
    "\n",
    "print(f\"s = {s}, dif = {dif}, termos = {i}\")"
   ]
  },
  {
   "cell_type": "code",
   "execution_count": 28,
   "metadata": {},
   "outputs": [
    {
     "name": "stdout",
     "output_type": "stream",
     "text": [
      "Ação de banco: bbbc4\n",
      "Ação de banco: itub4\n",
      "Ação de banco: bbas3\n",
      "Ação de banco: sanb4\n",
      "Ação de banco: bpac3\n"
     ]
    }
   ],
   "source": [
    "lista = ['bbbc4', 'itub4', 'petr4', 'petr4', 'bbas3', 'petr4', 'sanb4', 'petr4', 'bpac3', 'petr4']\n",
    "\n",
    "for i in lista:\n",
    "\tif i == 'petr4':\n",
    "\t\tcontinue\n",
    "\tprint(f\"Ação de banco: {i}\")"
   ]
  },
  {
   "cell_type": "code",
   "execution_count": 29,
   "metadata": {},
   "outputs": [
    {
     "name": "stdout",
     "output_type": "stream",
     "text": [
      "Posição da ação petr4: 2\n"
     ]
    }
   ],
   "source": [
    "i = 0\n",
    "while i < len(lista):\n",
    "\tif lista[i] == 'petr4':\n",
    "\t\tbreak\n",
    "\ti += 1\n",
    "print(f\"Posição da ação petr4: {i}\")"
   ]
  },
  {
   "cell_type": "code",
   "execution_count": 31,
   "metadata": {},
   "outputs": [
    {
     "name": "stdout",
     "output_type": "stream",
     "text": [
      "Posição da terceira ação petr4: 5\n"
     ]
    }
   ],
   "source": [
    "i = 0\n",
    "count = 0\n",
    "\n",
    "while i < len(lista):\n",
    "\tif lista[i] == 'petr4':\n",
    "\t\tcount += 1\n",
    "\tif count == 3:\n",
    "\t\tbreak\n",
    "\ti += 1\n",
    "print(f\"Posição da terceira ação petr4: {i}\")"
   ]
  },
  {
   "cell_type": "code",
   "execution_count": 37,
   "metadata": {},
   "outputs": [
    {
     "name": "stdout",
     "output_type": "stream",
     "text": [
      "['comprar', 'vender']\n",
      "comprar\n",
      "vender\n",
      "['manter', 'alertar', 'indicar']\n",
      "manter\n",
      "alertar\n",
      "indicar\n",
      "['tendencia', 'crash', 'lucro']\n",
      "tendencia\n",
      "crash\n",
      "lucro\n"
     ]
    }
   ],
   "source": [
    "palavras = [['comprar', 'vender'], ['manter', 'alertar', 'indicar'], ['tendencia', 'crash', 'lucro']]\n",
    "\n",
    "for i in palavras:\n",
    "\tprint(i)\n",
    "\tfor j in i:\n",
    "\t\tprint(j)"
   ]
  },
  {
   "cell_type": "code",
   "execution_count": 39,
   "metadata": {},
   "outputs": [
    {
     "name": "stdout",
     "output_type": "stream",
     "text": [
      "['comprar', 'vender', 'manter', 'alertar', 'indicar', 'tendencia', 'crash', 'lucro']\n"
     ]
    }
   ],
   "source": [
    "lista_nova = []\n",
    "for i in palavras:\n",
    "\tfor j in i:\n",
    "\t\tlista_nova.append(j)\n",
    "print(lista_nova)"
   ]
  },
  {
   "cell_type": "code",
   "execution_count": 44,
   "metadata": {},
   "outputs": [
    {
     "name": "stdout",
     "output_type": "stream",
     "text": [
      "a nova lista:\n",
      "[1, 2, 1, 3, -1, 4, 5, 0, 0, 1, 2, -1, -1, -1, 2, 2, -1, 2, -1, 3, 2, 0, 1, 1, -1, 0, 2]\n",
      "a soma dos elementos da lista: 27\n",
      "o maior elemento da lista: 5\n",
      "o menor elemento da lista: -1\n",
      "a média dos elementos da lista: 1.0\n",
      "a moda dos elementos da lista: 2\n",
      "o desvio padrão populacional dos elementos da lista: 1.63\n"
     ]
    }
   ],
   "source": [
    "import statistics as s\n",
    "\n",
    "lista = [[1,2,1], [3,-1,4,5], [0,0,1,2,-1], [-1,-1,2,2,-1,2,-1],[3,2,0],[1,1,-1,0,2]]\n",
    "lista_nova = []\n",
    "for i in lista:\n",
    "\tfor j in i:\n",
    "\t\tlista_nova.append(j)\n",
    "print(f\"a nova lista:\\n{lista_nova}\")\n",
    "print(f\"a soma dos elementos da lista: {sum(lista_nova)}\")\n",
    "print(f\"o maior elemento da lista: {max(lista_nova)}\")\n",
    "print(f\"o menor elemento da lista: {min(lista_nova)}\")\n",
    "print(f\"a média dos elementos da lista: {sum(lista_nova)/len(lista_nova)}\")\n",
    "print(f\"a moda dos elementos da lista: {s.mode(lista_nova)}\")\n",
    "print(f\"o desvio padrão populacional dos elementos da lista: {s.pstdev(lista_nova):.2f}\")"
   ]
  },
  {
   "cell_type": "code",
   "execution_count": 45,
   "metadata": {},
   "outputs": [
    {
     "name": "stdout",
     "output_type": "stream",
     "text": [
      "['a', 'b', 'c', 'd', 'f']\n"
     ]
    }
   ],
   "source": [
    "let = ['a','b','c','a','d','f','a','b','b','d','c']\n",
    "new_let = []\n",
    "for letter in let:\n",
    "\tif letter not in new_let:\n",
    "\t\tnew_let.append(letter)\n",
    "  \n",
    "print(new_let)"
   ]
  },
  {
   "cell_type": "code",
   "execution_count": null,
   "metadata": {},
   "outputs": [],
   "source": []
  }
 ],
 "metadata": {
  "kernelspec": {
   "display_name": "Python 3 (ipykernel)",
   "language": "python",
   "name": "python3"
  },
  "language_info": {
   "codemirror_mode": {
    "name": "ipython",
    "version": 3
   },
   "file_extension": ".py",
   "mimetype": "text/x-python",
   "name": "python",
   "nbconvert_exporter": "python",
   "pygments_lexer": "ipython3",
   "version": "3.12.2"
  }
 },
 "nbformat": 4,
 "nbformat_minor": 2
}
