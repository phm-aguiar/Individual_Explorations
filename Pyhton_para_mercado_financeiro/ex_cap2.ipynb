{
 "cells": [
  {
   "cell_type": "code",
   "execution_count": 1,
   "metadata": {},
   "outputs": [],
   "source": [
    "import math as m "
   ]
  },
  {
   "cell_type": "code",
   "execution_count": 3,
   "metadata": {},
   "outputs": [
    {
     "name": "stdout",
     "output_type": "stream",
     "text": [
      "x = 5\n"
     ]
    }
   ],
   "source": [
    "x = int(input(\"Enter a number: \"))\n",
    "print(f\"x = {x}\")"
   ]
  },
  {
   "cell_type": "code",
   "execution_count": 6,
   "metadata": {},
   "outputs": [
    {
     "name": "stdout",
     "output_type": "stream",
     "text": [
      "The triangle is scalene\n"
     ]
    }
   ],
   "source": [
    "lado1 = int(input(\"Enter the first side of the triangle: \"))\n",
    "lado2 = int(input(\"Enter the second side of the triangle: \"))\n",
    "lado3 = int(input(\"Enter the third side of the triangle: \"))\n",
    "\n",
    "if lado1 == lado2 and lado2 == lado3:\n",
    "    print(\"The triangle is equilateral\")\n",
    "elif lado1 == lado2 or lado2 == lado3 or lado1 == lado3:\n",
    "    print(\"The triangle is isosceles\")\n",
    "else:\n",
    "    print(\"The triangle is scalene\")"
   ]
  },
  {
   "cell_type": "code",
   "execution_count": 7,
   "metadata": {},
   "outputs": [
    {
     "name": "stdout",
     "output_type": "stream",
     "text": [
      "Profit\n"
     ]
    }
   ],
   "source": [
    "valor_de_compra = float(input(\"Enter the purchase value: \"))\n",
    "valor_de_venda = float(input(\"Enter the sale value: \"))\n",
    "\n",
    "lucro = valor_de_venda - valor_de_compra\n",
    "percentual_de_lucro = (lucro / valor_de_compra) * 100\n",
    "if percentual_de_lucro < 10:\n",
    "\tprint(\"Loss\")\n",
    "elif percentual_de_lucro <= 20 and percentual_de_lucro >= 10:\n",
    "\tprint(\"Normal\")\n",
    "else:\n",
    "\tprint(\"Profit\")"
   ]
  },
  {
   "cell_type": "code",
   "execution_count": null,
   "metadata": {},
   "outputs": [],
   "source": [
    "maximo = int(input(\"Enter the maximum value: \"))\n",
    "minimo = int(input(\"Enter the minimum value: \"))\n",
    "\n",
    "intervalo_historico = maximo - minimo\n",
    "suporte = intervalo_historico * 0.30\n",
    "resistencia = intervalo_historico * 0.60\n",
    "\n",
    "# pagina 82"
   ]
  }
 ],
 "metadata": {
  "kernelspec": {
   "display_name": "Python 3 (ipykernel)",
   "language": "python",
   "name": "python3"
  },
  "language_info": {
   "codemirror_mode": {
    "name": "ipython",
    "version": 3
   },
   "file_extension": ".py",
   "mimetype": "text/x-python",
   "name": "python",
   "nbconvert_exporter": "python",
   "pygments_lexer": "ipython3",
   "version": "3.12.2"
  }
 },
 "nbformat": 4,
 "nbformat_minor": 2
}
