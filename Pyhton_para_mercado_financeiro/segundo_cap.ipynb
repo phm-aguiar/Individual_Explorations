{
 "cells": [
  {
   "cell_type": "code",
   "execution_count": 3,
   "metadata": {},
   "outputs": [
    {
     "name": "stdout",
     "output_type": "stream",
     "text": [
      "A área do círculo é 38.48\n"
     ]
    }
   ],
   "source": [
    "import math\n",
    "\n",
    "raio = float(input(\"Digite o raio do círculo: \"))\n",
    "area = math.pi * raio ** 2\n",
    "print(f\"A área do círculo é {area:.2f}\")"
   ]
  },
  {
   "cell_type": "code",
   "execution_count": 5,
   "metadata": {},
   "outputs": [
    {
     "name": "stdout",
     "output_type": "stream",
     "text": [
      "O valor de z é 23.00\n"
     ]
    }
   ],
   "source": [
    "import math\n",
    "\n",
    "x = float(input(\"Digite o valor de x: \"))\n",
    "y = float(input(\"Digite o valor de y: \"))\n",
    "\n",
    "z = math.sqrt(x ** 2 + y ** 2) - math.log(x) + math.exp(y)\n",
    "print(f\"O valor de z é {z:.2f}\")"
   ]
  },
  {
   "cell_type": "markdown",
   "metadata": {},
   "source": [
    "A estimativa de retorno de uma carteira de investimentos é uma medida de quão bem a carteira está performando. A estimativa de retorno é uma média ponderada dos retornos dos ativos na carteira. A ponderação é feita com base no valor investido em cada ativo.\n",
    "\n",
    "formula de retorno medio\n",
    "\n",
    "retm = r1*p1 + r2*p2 + r3*p3 + ... + rn*pn"
   ]
  },
  {
   "cell_type": "code",
   "execution_count": 6,
   "metadata": {},
   "outputs": [
    {
     "name": "stdout",
     "output_type": "stream",
     "text": [
      "O retorno médio é 95.00\n"
     ]
    }
   ],
   "source": [
    "r1 = float(input(\"Digite o valor do primeiro retorno: \"))\n",
    "r2 = float(input(\"Digite o valor do segundo retorno: \"))\n",
    "r3 = float(input(\"Digite o valor do terceiro retorno: \"))\n",
    "# probabilidades\n",
    "p1 = float(input(\"Digite a probabilidade do primeiro retorno: \"))\n",
    "p2 = float(input(\"Digite a probabilidade do segundo retorno: \"))\n",
    "p3 = float(input(\"Digite a probabilidade do terceiro retorno: \"))\n",
    "\n",
    "retorno_medio = r1 * p1 + r2 * p2 + r3 * p3\n",
    "print(f\"O retorno médio é {retorno_medio:.2f}\")\n",
    "\n"
   ]
  },
  {
   "cell_type": "code",
   "execution_count": 7,
   "metadata": {},
   "outputs": [
    {
     "name": "stdout",
     "output_type": "stream",
     "text": [
      "O retorno foi positivo de 10.00\n"
     ]
    }
   ],
   "source": [
    "# calculo do retorno \n",
    "\n",
    "p1 = float(input(\"Digite o resultado do primeiro dia: \"))\n",
    "p2 = float(input(\"Digite o resultado do segundo dia: \"))\n",
    "\n",
    "retorno = p2 - p1\n",
    "if retorno >= 0:\n",
    "\tprint(f\"O retorno foi positivo de {retorno:.2f}\")\n",
    "else:\n",
    "\tprint(f\"O retorno foi negativo de {retorno:.2f}\")"
   ]
  },
  {
   "cell_type": "code",
   "execution_count": 10,
   "metadata": {},
   "outputs": [
    {
     "name": "stdout",
     "output_type": "stream",
     "text": [
      "Comprar Ações Gerdaú\n"
     ]
    }
   ],
   "source": [
    "perg1 = str(input(\"Temer sai?? \"))\n",
    "\n",
    "if perg1 == \"sim\":\n",
    "\tperg2 = str(input(\"Maia assume a presidência?? \"))\n",
    "\tif perg2 == \"sim\":\n",
    "\t\tperg3 = str(input(\"Antecipação das eleições?? \"))\n",
    "\t\tif perg3 == \"sim\":\n",
    "\t\t\tprint(\"Comprar Ações Petrobras\")\n",
    "\t\telse:\n",
    "\t\t\tprint(\"Comprar Ações Usiminas\")\n",
    "\telse:\n",
    "\t\tperg3 = str(input(\"Antecipação das eleições??\"))\n",
    "\t\tif perg3 == \"sim\":\n",
    "\t\t\tprint(\"Comprar Ações Gerdaú\")\n",
    "\t\telse:\n",
    "\t\t\tprint(\"Comprar Ações Vale\")\n",
    "else:\n",
    "    perg2 = str(input(\"Greve dos caminhoneiros?? \"))\n",
    "    if perg2 == \"sim\":\n",
    "        print(\"Comprar Dollar\")\n",
    "    else:\n",
    "        print(\"Comprar Ouro\")\n"
   ]
  },
  {
   "cell_type": "code",
   "execution_count": 17,
   "metadata": {},
   "outputs": [
    {
     "name": "stdout",
     "output_type": "stream",
     "text": [
      "O fatorial de 100 é 93326215443944152681699238856266700490715968264381621468592963895217599993229915608941463976156518286253697920827223758251185210916864000000000000000000000000\n",
      "O fatorial de 100 é 93326215443944152681699238856266700490715968264381621468592963895217599993229915608941463976156518286253697920827223758251185210916864000000000000000000000000 158\n"
     ]
    }
   ],
   "source": [
    "# fatorial\n",
    "\n",
    "n = int(input(\"Digite o valor de n: \"))\n",
    "fat = 1\n",
    "for i in range(1, n + 1):\n",
    "\tfat *= i\n",
    "print(f\"O fatorial de {n} é {fat}\")\n",
    "math.factorial(n)\n",
    "print(f\"O fatorial de {n} é {math.factorial(n)} {len(str(math.factorial(n)))}\")"
   ]
  },
  {
   "cell_type": "code",
   "execution_count": 21,
   "metadata": {},
   "outputs": [
    {
     "name": "stdout",
     "output_type": "stream",
     "text": [
      "A exponencial de 1.0 é 2.72\n",
      "A exponencial de 1.0 é 2.72 17\n"
     ]
    }
   ],
   "source": [
    "# algoritmo de exponencial\n",
    "\n",
    "n = int(input(\"Digite o valor de n: \"))\n",
    "x = float(input(\"Digite o valor de x: \"))\n",
    "\n",
    "fat = 1\n",
    "soma = 1\n",
    "\n",
    "for i in range(1, n + 1):\n",
    "\tfat *= i\n",
    "\tsoma += x ** i / fat\n",
    "print(f\"A exponencial de {x} é {soma:.2f}\")\n",
    "math.exp(x)\n",
    "print(f\"A exponencial de {x} é {math.exp(x):.2f}\")"
   ]
  },
  {
   "cell_type": "code",
   "execution_count": null,
   "metadata": {},
   "outputs": [],
   "source": []
  }
 ],
 "metadata": {
  "kernelspec": {
   "display_name": "Python 3 (ipykernel)",
   "language": "python",
   "name": "python3"
  }
 },
 "nbformat": 4,
 "nbformat_minor": 2
}
